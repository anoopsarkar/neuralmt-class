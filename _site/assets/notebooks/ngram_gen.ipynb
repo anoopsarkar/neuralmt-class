{
 "metadata": {
  "name": "",
  "signature": "sha256:c611413f72147146628a8be9aeaa86d6cea2d6a0cf593bd9cb18abd2885cbc6f"
 },
 "nbformat": 3,
 "nbformat_minor": 0,
 "worksheets": [
  {
   "cells": [
    {
     "cell_type": "code",
     "collapsed": false,
     "input": [
      "from nltk.corpus import gutenberg\n",
      "from nltk.model import *\n",
      "from nltk.probability import LidstoneProbDist\n",
      "import pprint\n",
      "import sys\n",
      "\n",
      "class NullDevice():\n",
      "    def write(self, s):\n",
      "        pass\n",
      "\n",
      "use_chars = True\n",
      "\n",
      "#sys.stderr = NullDevice()\n",
      "estimator = lambda fdist, bins: LidstoneProbDist(fdist, 0.02)\n",
      "\n",
      "t = None\n",
      "if use_chars:\n",
      "    t = [ [ c for c in ' '.join(sent) ] for sent in gutenberg.sents('carroll-alice.txt') ]\n",
      "else:\n",
      "    t = [ x for x in gutenberg.sents('carroll-alice.txt') ]\n",
      "\n",
      "def ngram_gen(n, t, len=100):\n",
      "    print \"\\n%d-gram model\\n---------------\\n\" % (n)\n",
      "    m = NgramModel(n, t, True, True, estimator)\n",
      "    #print m.entropy(\"if you cannot mean what you say then at least say what you mean\".split())\n",
      "    sep = '' if use_chars else ' '\n",
      "    if n == 1:\n",
      "        # there is a bug in nltk NgramModel when n=1. it just produces a sequence of . characters\n",
      "        genstring = sep.join([ m[()].generate() for i in range(len) ])\n",
      "    else:\n",
      "        genstring = sep.join(m.generate(len))\n",
      "    print genstring\n",
      "    return genstring\n",
      "\n",
      "genstring_list = map(lambda n: ngram_gen(n, t), range(1,10))\n"
     ],
     "language": "python",
     "metadata": {},
     "outputs": [
      {
       "output_type": "stream",
       "stream": "stdout",
       "text": [
        "\n",
        "1-gram model\n",
        "---------------\n",
        "\n",
        " apoA itb  ai g WcHTdi  cnngmoduwFt ,ieiwsei !epe i eyhn, l  ps''tAqif wearw i e ot   n Yl tda'e eri"
       ]
      },
      {
       "output_type": "stream",
       "stream": "stdout",
       "text": [
        "\n",
        "\n",
        "2-gram model\n",
        "---------------\n",
        "\n",
        "'' we ' thtthish sherlozeve ars Fope Allid heatowoutorye me aleathe lad , and Mofraly , OCrg ll t f"
       ]
      },
      {
       "output_type": "stream",
       "stream": "stdout",
       "text": [
        "\n",
        "\n",
        "3-gram model\n",
        "---------------\n",
        "\n",
        "Shesten .'' shent to hat was nockind wrep as eyethe ple MING Alithead upok hat whe Haremble .'"
       ]
      },
      {
       "output_type": "stream",
       "stream": "stdout",
       "text": [
        "\n",
        "\n",
        "4-gram model\n",
        "---------------\n",
        "\n",
        "She Duch a VERY unease said it deciden a bird began older , wentily such they ' You were , poing to "
       ]
      },
      {
       "output_type": "stream",
       "stream": "stdout",
       "text": [
        "\n",
        "\n",
        "5-gram model\n",
        "---------------\n",
        "\n",
        "' crumbling it would , and as in a thing , ' Pray in he repeaten on sea !' exclamourn ; so make "
       ]
      },
      {
       "output_type": "stream",
       "stream": "stdout",
       "text": [
        "\n",
        "\n",
        "6-gram model\n",
        "---------------\n",
        "\n",
        "' Oh , YOU like the fifteenth , as there , you been .''These would this time whom she"
       ]
      },
      {
       "output_type": "stream",
       "stream": "stdout",
       "text": [
        "\n",
        "\n",
        "7-gram model\n",
        "---------------\n"
       ]
      },
      {
       "output_type": "stream",
       "stream": "stdout",
       "text": [
        "\n",
        "And yet you if you ' re looked up eager with one flapper across the first witness , she heads off ."
       ]
      },
      {
       "output_type": "stream",
       "stream": "stdout",
       "text": [
        "\n",
        "\n",
        "8-gram model\n",
        "---------------\n"
       ]
      },
      {
       "output_type": "stream",
       "stream": "stdout",
       "text": [
        "\n",
        "As for pulling me out among the people about her hand , in the middle , wonder if I ' m growing ."
       ]
      },
      {
       "output_type": "stream",
       "stream": "stdout",
       "text": [
        "\n",
        "\n",
        "9-gram model\n",
        "---------------\n"
       ]
      },
      {
       "output_type": "stream",
       "stream": "stdout",
       "text": [
        "\n",
        "' I didn ' t !' Do you play croquet - ground in it a very good height indeed .Good -"
       ]
      },
      {
       "output_type": "stream",
       "stream": "stdout",
       "text": [
        "\n"
       ]
      }
     ],
     "prompt_number": 8
    },
    {
     "cell_type": "code",
     "collapsed": false,
     "input": [
      "from IPython.core.display import HTML\n",
      "\n",
      "\n",
      "def css_styling():\n",
      "    styles = open(\"../css/notebook.css\", \"r\").read()\n",
      "    return HTML(styles)\n",
      "css_styling()"
     ],
     "language": "python",
     "metadata": {},
     "outputs": []
    },
    {
     "cell_type": "code",
     "collapsed": false,
     "input": [],
     "language": "python",
     "metadata": {},
     "outputs": []
    }
   ],
   "metadata": {}
  }
 ]
}