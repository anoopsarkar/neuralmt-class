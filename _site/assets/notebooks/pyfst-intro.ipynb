{
 "metadata": {
  "name": "",
  "signature": "sha256:4ae8faca77b17287cc2b89839443b2cd49b4fb08c4ec1b82169018ffdc0a82d5"
 },
 "nbformat": 3,
 "nbformat_minor": 0,
 "worksheets": [
  {
   "cells": [
    {
     "cell_type": "heading",
     "level": 1,
     "metadata": {},
     "source": [
      "Using openfst and pyfst"
     ]
    },
    {
     "cell_type": "markdown",
     "metadata": {},
     "source": [
      "First install openfst and pyfst. \n",
      "\n",
      "Use brew to install openfst on macosx:\n",
      "\n",
      "    brew update\n",
      "    brew -v install https://github.com/kylebgorman/homebrew/raw/master/Library/Formula/openfst.rb\n",
      "\n",
      "Download, compile and install openfst from source on Linux:\n",
      "\n",
      "    cd /tmp\n",
      "    curl http://openfst.cs.nyu.edu/twiki/pub/FST/FstDownload/openfst-1.3.4.tar.gz > openfst-1.3.4.tgz\n",
      "    tar zxvf openfst-1.3.4.tgz\n",
      "    ./configure --prefix=/usr/local --enable-far\n",
      "    make\n",
      "    sudo make install\n",
      "\n",
      "Then install pyfst (Make sure that the `pip` binary is the one that in `anaconda/bin`:\n",
      "\n",
      "    pip install pyfst\n",
      "    \n",
      "Finally make sure you have graphviz installed so that you can see the FST drawn as a graph:\n",
      "\n",
      "    brew install graphviz"
     ]
    },
    {
     "cell_type": "code",
     "collapsed": false,
     "input": [
      "import fst"
     ],
     "language": "python",
     "metadata": {},
     "outputs": [
      {
       "ename": "ImportError",
       "evalue": "No module named fst",
       "output_type": "pyerr",
       "traceback": [
        "\u001b[0;31m---------------------------------------------------------------------------\u001b[0m\n\u001b[0;31mImportError\u001b[0m                               Traceback (most recent call last)",
        "\u001b[0;32m<ipython-input-1-7279038b919c>\u001b[0m in \u001b[0;36m<module>\u001b[0;34m()\u001b[0m\n\u001b[0;32m----> 1\u001b[0;31m \u001b[0;32mimport\u001b[0m \u001b[0mfst\u001b[0m\u001b[0;34m\u001b[0m\u001b[0m\n\u001b[0m",
        "\u001b[0;31mImportError\u001b[0m: No module named fst"
       ]
      }
     ],
     "prompt_number": 1
    },
    {
     "cell_type": "code",
     "collapsed": false,
     "input": [
      "A = fst.Transducer()\n",
      "\n",
      "A.add_arc(0, 1, 'a', 'q', 1.0) # the weights can be all set to 1 if you do not have probabilities as in HW2\n",
      "A.add_arc(1, 1, 'c', 's', 1)\n",
      "A.add_arc(0, 2, 'a', 'r', 2.5)\n",
      "A[2].final = 2.5\n",
      "A[1].final = 0"
     ],
     "language": "python",
     "metadata": {},
     "outputs": []
    },
    {
     "cell_type": "code",
     "collapsed": false,
     "input": [
      "A"
     ],
     "language": "python",
     "metadata": {},
     "outputs": []
    },
    {
     "cell_type": "code",
     "collapsed": false,
     "input": [
      " # this is really important! set the input symbols (isyms) of B to be the output symbols (osyms) of A\n",
      "B = fst.Transducer(isyms=A.osyms)\n",
      "B.add_arc(0, 1, 'q', 'f', 1)\n",
      "B.add_arc(1, 2, 's', 'g', 2.5)\n",
      "B.add_arc(0, 2, 'r', 'h', 3)\n",
      "B.add_arc(2, 2, 's', 'j', 1.5)\n",
      "B[2].final = 2"
     ],
     "language": "python",
     "metadata": {},
     "outputs": []
    },
    {
     "cell_type": "code",
     "collapsed": false,
     "input": [
      "B"
     ],
     "language": "python",
     "metadata": {},
     "outputs": []
    },
    {
     "cell_type": "code",
     "collapsed": false,
     "input": [
      "C = A.compose(B)\n",
      "C"
     ],
     "language": "python",
     "metadata": {},
     "outputs": []
    },
    {
     "cell_type": "heading",
     "level": 2,
     "metadata": {},
     "source": [
      "Reversing a string using pyfst"
     ]
    },
    {
     "cell_type": "code",
     "collapsed": false,
     "input": [
      "import fst\n",
      "# reverse a string 'foo' into 'oof' using an FST\n",
      "Rv = fst.Transducer()\n",
      "Rv.add_arc(0, 1, 'f', 'o')\n",
      "Rv.add_arc(1, 2, 'o', 'o')\n",
      "Rv.add_arc(2, 3, 'o', 'f')\n",
      "Rv[3].final = True\n",
      "Rv"
     ],
     "language": "python",
     "metadata": {},
     "outputs": []
    },
    {
     "cell_type": "heading",
     "level": 2,
     "metadata": {},
     "source": [
      "Mapping a string to several output strings"
     ]
    },
    {
     "cell_type": "code",
     "collapsed": false,
     "input": [
      "import fst\n",
      "rel = { 'Y': ['y', 'i', 'yu', 'u', 'b'] }\n",
      "M = fst.Transducer()\n",
      "index = 0\n",
      "for key in rel.keys():\n",
      "    for c in key:\n",
      "        M.add_arc(index, index+1, c, fst.EPSILON)\n",
      "        index += 1\n",
      "    lastindex = index + 1\n",
      "    start = index\n",
      "    for value in rel[key]:\n",
      "        index = start\n",
      "        for c in value:\n",
      "            M.add_arc(index, lastindex, fst.EPSILON, c)\n",
      "            index = lastindex\n",
      "            lastindex += 1\n",
      "        M[index].final = True\n",
      "M"
     ],
     "language": "python",
     "metadata": {},
     "outputs": []
    },
    {
     "cell_type": "heading",
     "level": 2,
     "metadata": {},
     "source": [
      "Transduce using pyfst"
     ]
    },
    {
     "cell_type": "markdown",
     "metadata": {},
     "source": [
      "For a given output we can produce all the possible outputs using the compose function. For instance, if we have an input string `i` and a FST `A` we can produce the output using the following steps:\n",
      "\n",
      "* create an identity FST `I` from the input string `i`\n",
      "* compose `I` with `A`: `C = I o A`\n",
      "* project the output side of `C` to get the output"
     ]
    },
    {
     "cell_type": "code",
     "collapsed": false,
     "input": [
      "import fst\n",
      "A = fst.Transducer()\n",
      "\n",
      "A.add_arc(0, 1, 'a', 'A')\n",
      "A.add_arc(1, 2, 'b', 'B')\n",
      "A[2].final = True\n",
      "A"
     ],
     "language": "python",
     "metadata": {},
     "outputs": []
    },
    {
     "cell_type": "code",
     "collapsed": false,
     "input": [
      "I = fst.Transducer(osyms=A.isyms) # Identity Transducer\n",
      "\n",
      "I.add_arc(0, 1, 'a', 'a')\n",
      "I.add_arc(1, 2, 'b', 'b')\n",
      "I[2].final = True\n",
      "I"
     ],
     "language": "python",
     "metadata": {},
     "outputs": []
    },
    {
     "cell_type": "code",
     "collapsed": false,
     "input": [
      "R = I.compose(A)\n",
      "R"
     ],
     "language": "python",
     "metadata": {},
     "outputs": []
    },
    {
     "cell_type": "heading",
     "level": 2,
     "metadata": {},
     "source": [
      "Printing the output"
     ]
    },
    {
     "cell_type": "markdown",
     "metadata": {},
     "source": [
      "There are two ways to produce the output as a string. The first way is to iterate over the paths in the composed FST and concatenate the output labels to produce the output string."
     ]
    },
    {
     "cell_type": "code",
     "collapsed": false,
     "input": [
      "for path in R.paths():\n",
      "    print ''.join(R.osyms.find(arc.olabel) for arc in path)"
     ],
     "language": "python",
     "metadata": {},
     "outputs": []
    },
    {
     "cell_type": "markdown",
     "metadata": {},
     "source": [
      "The second option is to create a FSA by removing the input side of the FST (called projecting the output side of a FST)."
     ]
    },
    {
     "cell_type": "code",
     "collapsed": false,
     "input": [
      "N = R.copy()\n",
      "N.project_output()\n",
      "N"
     ],
     "language": "python",
     "metadata": {},
     "outputs": []
    },
    {
     "cell_type": "code",
     "collapsed": false,
     "input": [
      "for path in N.paths():\n",
      "    print ''.join(N.isyms.find(arc.ilabel) for arc in path)"
     ],
     "language": "python",
     "metadata": {},
     "outputs": []
    },
    {
     "cell_type": "code",
     "collapsed": false,
     "input": [],
     "language": "python",
     "metadata": {},
     "outputs": []
    }
   ],
   "metadata": {}
  }
 ]
}